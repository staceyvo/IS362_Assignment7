{
 "cells": [
  {
   "cell_type": "code",
   "execution_count": 1,
   "metadata": {},
   "outputs": [],
   "source": [
    "import pandas as pd\n",
    "import numpy as np"
   ]
  },
  {
   "cell_type": "markdown",
   "metadata": {},
   "source": [
    "Import movie ratings from csv file"
   ]
  },
  {
   "cell_type": "code",
   "execution_count": 2,
   "metadata": {},
   "outputs": [
    {
     "data": {
      "text/html": [
       "<div>\n",
       "<style scoped>\n",
       "    .dataframe tbody tr th:only-of-type {\n",
       "        vertical-align: middle;\n",
       "    }\n",
       "\n",
       "    .dataframe tbody tr th {\n",
       "        vertical-align: top;\n",
       "    }\n",
       "\n",
       "    .dataframe thead th {\n",
       "        text-align: right;\n",
       "    }\n",
       "</style>\n",
       "<table border=\"1\" class=\"dataframe\">\n",
       "  <thead>\n",
       "    <tr style=\"text-align: right;\">\n",
       "      <th></th>\n",
       "      <th>A Quiet Place</th>\n",
       "      <th>I Feel Pretty</th>\n",
       "      <th>Super Troopers 2</th>\n",
       "      <th>Blockers</th>\n",
       "      <th>Truth or Dare</th>\n",
       "      <th>Rampage</th>\n",
       "    </tr>\n",
       "  </thead>\n",
       "  <tbody>\n",
       "    <tr>\n",
       "      <th>Chris</th>\n",
       "      <td>4.0</td>\n",
       "      <td>1.0</td>\n",
       "      <td>5.0</td>\n",
       "      <td>NaN</td>\n",
       "      <td>4.5</td>\n",
       "      <td>3.0</td>\n",
       "    </tr>\n",
       "    <tr>\n",
       "      <th>Ariella</th>\n",
       "      <td>NaN</td>\n",
       "      <td>3.0</td>\n",
       "      <td>4.0</td>\n",
       "      <td>3.0</td>\n",
       "      <td>3.5</td>\n",
       "      <td>NaN</td>\n",
       "    </tr>\n",
       "    <tr>\n",
       "      <th>Jenn</th>\n",
       "      <td>4.0</td>\n",
       "      <td>NaN</td>\n",
       "      <td>2.0</td>\n",
       "      <td>NaN</td>\n",
       "      <td>4.0</td>\n",
       "      <td>NaN</td>\n",
       "    </tr>\n",
       "    <tr>\n",
       "      <th>Tammy</th>\n",
       "      <td>4.5</td>\n",
       "      <td>4.0</td>\n",
       "      <td>4.5</td>\n",
       "      <td>3.0</td>\n",
       "      <td>2.5</td>\n",
       "      <td>2.0</td>\n",
       "    </tr>\n",
       "    <tr>\n",
       "      <th>Juan</th>\n",
       "      <td>4.0</td>\n",
       "      <td>NaN</td>\n",
       "      <td>3.5</td>\n",
       "      <td>4.0</td>\n",
       "      <td>3.0</td>\n",
       "      <td>2.0</td>\n",
       "    </tr>\n",
       "  </tbody>\n",
       "</table>\n",
       "</div>"
      ],
      "text/plain": [
       "         A Quiet Place  I Feel Pretty  Super Troopers 2  Blockers  \\\n",
       "Chris              4.0            1.0               5.0       NaN   \n",
       "Ariella            NaN            3.0               4.0       3.0   \n",
       "Jenn               4.0            NaN               2.0       NaN   \n",
       "Tammy              4.5            4.0               4.5       3.0   \n",
       "Juan               4.0            NaN               3.5       4.0   \n",
       "\n",
       "         Truth or Dare  Rampage  \n",
       "Chris              4.5      3.0  \n",
       "Ariella            3.5      NaN  \n",
       "Jenn               4.0      NaN  \n",
       "Tammy              2.5      2.0  \n",
       "Juan               3.0      2.0  "
      ]
     },
     "execution_count": 2,
     "metadata": {},
     "output_type": "execute_result"
    }
   ],
   "source": [
    "reviews = pd.read_csv('/Users/stacey/Documents/GitHub/IS362_Assignment7/movies.csv', index_col=0)\n",
    "reviews"
   ]
  },
  {
   "cell_type": "markdown",
   "metadata": {},
   "source": [
    "First, we need to clean this dataset a litte.  Let's fill in any missing values with 0.0"
   ]
  },
  {
   "cell_type": "code",
   "execution_count": 3,
   "metadata": {},
   "outputs": [
    {
     "data": {
      "text/html": [
       "<div>\n",
       "<style scoped>\n",
       "    .dataframe tbody tr th:only-of-type {\n",
       "        vertical-align: middle;\n",
       "    }\n",
       "\n",
       "    .dataframe tbody tr th {\n",
       "        vertical-align: top;\n",
       "    }\n",
       "\n",
       "    .dataframe thead th {\n",
       "        text-align: right;\n",
       "    }\n",
       "</style>\n",
       "<table border=\"1\" class=\"dataframe\">\n",
       "  <thead>\n",
       "    <tr style=\"text-align: right;\">\n",
       "      <th></th>\n",
       "      <th>A Quiet Place</th>\n",
       "      <th>I Feel Pretty</th>\n",
       "      <th>Super Troopers 2</th>\n",
       "      <th>Blockers</th>\n",
       "      <th>Truth or Dare</th>\n",
       "      <th>Rampage</th>\n",
       "    </tr>\n",
       "  </thead>\n",
       "  <tbody>\n",
       "    <tr>\n",
       "      <th>Chris</th>\n",
       "      <td>4.0</td>\n",
       "      <td>1.0</td>\n",
       "      <td>5.0</td>\n",
       "      <td>0.0</td>\n",
       "      <td>4.5</td>\n",
       "      <td>3.0</td>\n",
       "    </tr>\n",
       "    <tr>\n",
       "      <th>Ariella</th>\n",
       "      <td>0.0</td>\n",
       "      <td>3.0</td>\n",
       "      <td>4.0</td>\n",
       "      <td>3.0</td>\n",
       "      <td>3.5</td>\n",
       "      <td>0.0</td>\n",
       "    </tr>\n",
       "    <tr>\n",
       "      <th>Jenn</th>\n",
       "      <td>4.0</td>\n",
       "      <td>0.0</td>\n",
       "      <td>2.0</td>\n",
       "      <td>0.0</td>\n",
       "      <td>4.0</td>\n",
       "      <td>0.0</td>\n",
       "    </tr>\n",
       "    <tr>\n",
       "      <th>Tammy</th>\n",
       "      <td>4.5</td>\n",
       "      <td>4.0</td>\n",
       "      <td>4.5</td>\n",
       "      <td>3.0</td>\n",
       "      <td>2.5</td>\n",
       "      <td>2.0</td>\n",
       "    </tr>\n",
       "    <tr>\n",
       "      <th>Juan</th>\n",
       "      <td>4.0</td>\n",
       "      <td>0.0</td>\n",
       "      <td>3.5</td>\n",
       "      <td>4.0</td>\n",
       "      <td>3.0</td>\n",
       "      <td>2.0</td>\n",
       "    </tr>\n",
       "  </tbody>\n",
       "</table>\n",
       "</div>"
      ],
      "text/plain": [
       "         A Quiet Place  I Feel Pretty  Super Troopers 2  Blockers  \\\n",
       "Chris              4.0            1.0               5.0       0.0   \n",
       "Ariella            0.0            3.0               4.0       3.0   \n",
       "Jenn               4.0            0.0               2.0       0.0   \n",
       "Tammy              4.5            4.0               4.5       3.0   \n",
       "Juan               4.0            0.0               3.5       4.0   \n",
       "\n",
       "         Truth or Dare  Rampage  \n",
       "Chris              4.5      3.0  \n",
       "Ariella            3.5      0.0  \n",
       "Jenn               4.0      0.0  \n",
       "Tammy              2.5      2.0  \n",
       "Juan               3.0      2.0  "
      ]
     },
     "execution_count": 3,
     "metadata": {},
     "output_type": "execute_result"
    }
   ],
   "source": [
    "reviews_cleaned = reviews.fillna(0.0)\n",
    "reviews_cleaned"
   ]
  },
  {
   "cell_type": "markdown",
   "metadata": {},
   "source": [
    "Show the average ratings for each user and each movie."
   ]
  },
  {
   "cell_type": "code",
   "execution_count": 4,
   "metadata": {},
   "outputs": [
    {
     "data": {
      "text/plain": [
       "Chris      2.9\n",
       "Ariella    2.2\n",
       "Jenn       1.7\n",
       "Tammy      3.4\n",
       "Juan       2.8\n",
       "dtype: float64"
      ]
     },
     "execution_count": 4,
     "metadata": {},
     "output_type": "execute_result"
    }
   ],
   "source": [
    "friend_ratings = reviews_cleaned.mean(axis=1).round(1)\n",
    "friend_ratings"
   ]
  },
  {
   "cell_type": "code",
   "execution_count": 5,
   "metadata": {},
   "outputs": [
    {
     "data": {
      "text/plain": [
       "A Quiet Place       3.3\n",
       "I Feel Pretty       1.6\n",
       "Super Troopers 2    3.8\n",
       "Blockers            2.0\n",
       "Truth or Dare       3.5\n",
       "Rampage             1.4\n",
       "dtype: float64"
      ]
     },
     "execution_count": 5,
     "metadata": {},
     "output_type": "execute_result"
    }
   ],
   "source": [
    "movie_ratings = reviews_cleaned.mean(axis=0).round(1)\n",
    "movie_ratings"
   ]
  },
  {
   "cell_type": "markdown",
   "metadata": {},
   "source": [
    "Normalized Data\n",
    "\n",
    "\n",
    "Create a new pandas dataframe, with normalized ratings for each user. Again, show the average\n",
    "ratings for each user and each movie."
   ]
  },
  {
   "cell_type": "code",
   "execution_count": 6,
   "metadata": {},
   "outputs": [
    {
     "data": {
      "text/html": [
       "<div>\n",
       "<style scoped>\n",
       "    .dataframe tbody tr th:only-of-type {\n",
       "        vertical-align: middle;\n",
       "    }\n",
       "\n",
       "    .dataframe tbody tr th {\n",
       "        vertical-align: top;\n",
       "    }\n",
       "\n",
       "    .dataframe thead th {\n",
       "        text-align: right;\n",
       "    }\n",
       "</style>\n",
       "<table border=\"1\" class=\"dataframe\">\n",
       "  <thead>\n",
       "    <tr style=\"text-align: right;\">\n",
       "      <th></th>\n",
       "      <th>A Quiet Place</th>\n",
       "      <th>I Feel Pretty</th>\n",
       "      <th>Super Troopers 2</th>\n",
       "      <th>Blockers</th>\n",
       "      <th>Truth or Dare</th>\n",
       "      <th>Rampage</th>\n",
       "    </tr>\n",
       "  </thead>\n",
       "  <tbody>\n",
       "    <tr>\n",
       "      <th>Chris</th>\n",
       "      <td>0.9</td>\n",
       "      <td>0.2</td>\n",
       "      <td>1.0</td>\n",
       "      <td>0.0</td>\n",
       "      <td>1.0</td>\n",
       "      <td>1.0</td>\n",
       "    </tr>\n",
       "    <tr>\n",
       "      <th>Ariella</th>\n",
       "      <td>0.0</td>\n",
       "      <td>0.8</td>\n",
       "      <td>0.7</td>\n",
       "      <td>0.8</td>\n",
       "      <td>0.5</td>\n",
       "      <td>0.0</td>\n",
       "    </tr>\n",
       "    <tr>\n",
       "      <th>Jenn</th>\n",
       "      <td>0.9</td>\n",
       "      <td>0.0</td>\n",
       "      <td>0.0</td>\n",
       "      <td>0.0</td>\n",
       "      <td>0.8</td>\n",
       "      <td>0.0</td>\n",
       "    </tr>\n",
       "    <tr>\n",
       "      <th>Tammy</th>\n",
       "      <td>1.0</td>\n",
       "      <td>1.0</td>\n",
       "      <td>0.8</td>\n",
       "      <td>0.8</td>\n",
       "      <td>0.0</td>\n",
       "      <td>0.7</td>\n",
       "    </tr>\n",
       "    <tr>\n",
       "      <th>Juan</th>\n",
       "      <td>0.9</td>\n",
       "      <td>0.0</td>\n",
       "      <td>0.5</td>\n",
       "      <td>1.0</td>\n",
       "      <td>0.2</td>\n",
       "      <td>0.7</td>\n",
       "    </tr>\n",
       "  </tbody>\n",
       "</table>\n",
       "</div>"
      ],
      "text/plain": [
       "         A Quiet Place  I Feel Pretty  Super Troopers 2  Blockers  \\\n",
       "Chris              0.9            0.2               1.0       0.0   \n",
       "Ariella            0.0            0.8               0.7       0.8   \n",
       "Jenn               0.9            0.0               0.0       0.0   \n",
       "Tammy              1.0            1.0               0.8       0.8   \n",
       "Juan               0.9            0.0               0.5       1.0   \n",
       "\n",
       "         Truth or Dare  Rampage  \n",
       "Chris              1.0      1.0  \n",
       "Ariella            0.5      0.0  \n",
       "Jenn               0.8      0.0  \n",
       "Tammy              0.0      0.7  \n",
       "Juan               0.2      0.7  "
      ]
     },
     "execution_count": 6,
     "metadata": {},
     "output_type": "execute_result"
    }
   ],
   "source": [
    "normalized_data = (reviews_cleaned - reviews_cleaned.min())/ (reviews_cleaned.max() - reviews_cleaned.min())\n",
    "normalized_data.round(1)"
   ]
  },
  {
   "cell_type": "code",
   "execution_count": 7,
   "metadata": {},
   "outputs": [
    {
     "data": {
      "text/plain": [
       "Chris      0.69\n",
       "Ariella    0.44\n",
       "Jenn       0.27\n",
       "Tammy      0.71\n",
       "Juan       0.55\n",
       "dtype: float64"
      ]
     },
     "execution_count": 7,
     "metadata": {},
     "output_type": "execute_result"
    }
   ],
   "source": [
    "friend_normalized = normalized_data.mean(axis= 1).round(2)\n",
    "friend_normalized"
   ]
  },
  {
   "cell_type": "code",
   "execution_count": 8,
   "metadata": {},
   "outputs": [
    {
     "data": {
      "text/plain": [
       "A Quiet Place       0.73\n",
       "I Feel Pretty       0.40\n",
       "Super Troopers 2    0.60\n",
       "Blockers            0.50\n",
       "Truth or Dare       0.50\n",
       "Rampage             0.47\n",
       "dtype: float64"
      ]
     },
     "execution_count": 8,
     "metadata": {},
     "output_type": "execute_result"
    }
   ],
   "source": [
    "movie_normalized = normalized_data.mean(axis = 0).round(2)\n",
    "movie_normalized"
   ]
  },
  {
   "cell_type": "markdown",
   "metadata": {},
   "source": [
    "Provide a text-based conclusion: explain what might be advantages and disadvantages of using\n",
    "normalized ratings instead of the actual ratings.\n",
    "\n",
    "Data standardization is a method that plays a crucial role in data mining.  It helps center the data around 0 and to scale it in respect to standard deviation.  This would be useful in order to scale datasets down in order to compare them.  For example, if we were to look at commuter tables and compare the data, we'd want to standardize the data in order to compare those that drive versus those that take the train.  In a simple dataset, such as this movie ratings set, using the actual values without stadardization provides real world results."
   ]
  },
  {
   "cell_type": "markdown",
   "metadata": {},
   "source": [
    "[Extra credit] Create another new pandas dataframe, with standardized ratings for each user.\n",
    "Once again, show the average ratings for each user and each movie."
   ]
  },
  {
   "cell_type": "code",
   "execution_count": 9,
   "metadata": {},
   "outputs": [
    {
     "data": {
      "text/plain": [
       "Chris      0.689815\n",
       "Ariella    0.444444\n",
       "Jenn       0.273148\n",
       "Tammy      0.708333\n",
       "Juan       0.550926\n",
       "dtype: float64"
      ]
     },
     "execution_count": 9,
     "metadata": {},
     "output_type": "execute_result"
    }
   ],
   "source": [
    "normalized_data.mean(axis= 1)"
   ]
  },
  {
   "cell_type": "code",
   "execution_count": 10,
   "metadata": {},
   "outputs": [
    {
     "data": {
      "text/plain": [
       "A Quiet Place       0.733333\n",
       "I Feel Pretty       0.400000\n",
       "Super Troopers 2    0.600000\n",
       "Blockers            0.500000\n",
       "Truth or Dare       0.500000\n",
       "Rampage             0.466667\n",
       "dtype: float64"
      ]
     },
     "execution_count": 10,
     "metadata": {},
     "output_type": "execute_result"
    }
   ],
   "source": [
    "normalized_data.mean(axis= 0)"
   ]
  },
  {
   "cell_type": "code",
   "execution_count": null,
   "metadata": {},
   "outputs": [],
   "source": []
  }
 ],
 "metadata": {
  "kernelspec": {
   "display_name": "Python 2",
   "language": "python",
   "name": "python2"
  },
  "language_info": {
   "codemirror_mode": {
    "name": "ipython",
    "version": 2
   },
   "file_extension": ".py",
   "mimetype": "text/x-python",
   "name": "python",
   "nbconvert_exporter": "python",
   "pygments_lexer": "ipython2",
   "version": "2.7.14"
  }
 },
 "nbformat": 4,
 "nbformat_minor": 2
}
